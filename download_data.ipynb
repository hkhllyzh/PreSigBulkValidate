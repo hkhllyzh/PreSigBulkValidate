{
 "cells": [
  {
   "cell_type": "code",
   "execution_count": 1,
   "id": "1bf236db-4264-415d-aa22-0bbaf9401398",
   "metadata": {
    "execution": {
     "iopub.execute_input": "2022-10-18T16:12:55.487449Z",
     "iopub.status.busy": "2022-10-18T16:12:55.484578Z",
     "iopub.status.idle": "2022-10-18T16:13:03.799986Z",
     "shell.execute_reply": "2022-10-18T16:13:03.797713Z"
    },
    "tags": []
   },
   "outputs": [
    {
     "name": "stderr",
     "output_type": "stream",
     "text": [
      "载入需要的程辑包：SummarizedExperiment\n",
      "\n",
      "载入需要的程辑包：MatrixGenerics\n",
      "\n",
      "载入需要的程辑包：matrixStats\n",
      "\n",
      "\n",
      "载入程辑包：‘MatrixGenerics’\n",
      "\n",
      "\n",
      "The following objects are masked from ‘package:matrixStats’:\n",
      "\n",
      "    colAlls, colAnyNAs, colAnys, colAvgsPerRowSet, colCollapse,\n",
      "    colCounts, colCummaxs, colCummins, colCumprods, colCumsums,\n",
      "    colDiffs, colIQRDiffs, colIQRs, colLogSumExps, colMadDiffs,\n",
      "    colMads, colMaxs, colMeans2, colMedians, colMins, colOrderStats,\n",
      "    colProds, colQuantiles, colRanges, colRanks, colSdDiffs, colSds,\n",
      "    colSums2, colTabulates, colVarDiffs, colVars, colWeightedMads,\n",
      "    colWeightedMeans, colWeightedMedians, colWeightedSds,\n",
      "    colWeightedVars, rowAlls, rowAnyNAs, rowAnys, rowAvgsPerColSet,\n",
      "    rowCollapse, rowCounts, rowCummaxs, rowCummins, rowCumprods,\n",
      "    rowCumsums, rowDiffs, rowIQRDiffs, rowIQRs, rowLogSumExps,\n",
      "    rowMadDiffs, rowMads, rowMaxs, rowMeans2, rowMedians, rowMins,\n",
      "    rowOrderStats, rowProds, rowQuantiles, rowRanges, rowRanks,\n",
      "    rowSdDiffs, rowSds, rowSums2, rowTabulates, rowVarDiffs, rowVars,\n",
      "    rowWeightedMads, rowWeightedMeans, rowWeightedMedians,\n",
      "    rowWeightedSds, rowWeightedVars\n",
      "\n",
      "\n",
      "载入需要的程辑包：GenomicRanges\n",
      "\n",
      "载入需要的程辑包：stats4\n",
      "\n",
      "载入需要的程辑包：BiocGenerics\n",
      "\n",
      "\n",
      "载入程辑包：‘BiocGenerics’\n",
      "\n",
      "\n",
      "The following objects are masked from ‘package:stats’:\n",
      "\n",
      "    IQR, mad, sd, var, xtabs\n",
      "\n",
      "\n",
      "The following objects are masked from ‘package:base’:\n",
      "\n",
      "    anyDuplicated, append, as.data.frame, basename, cbind, colnames,\n",
      "    dirname, do.call, duplicated, eval, evalq, Filter, Find, get, grep,\n",
      "    grepl, intersect, is.unsorted, lapply, Map, mapply, match, mget,\n",
      "    order, paste, pmax, pmax.int, pmin, pmin.int, Position, rank,\n",
      "    rbind, Reduce, rownames, sapply, setdiff, sort, table, tapply,\n",
      "    union, unique, unsplit, which.max, which.min\n",
      "\n",
      "\n",
      "载入需要的程辑包：S4Vectors\n",
      "\n",
      "\n",
      "载入程辑包：‘S4Vectors’\n",
      "\n",
      "\n",
      "The following objects are masked from ‘package:base’:\n",
      "\n",
      "    expand.grid, I, unname\n",
      "\n",
      "\n",
      "载入需要的程辑包：IRanges\n",
      "\n",
      "载入需要的程辑包：GenomeInfoDb\n",
      "\n",
      "载入需要的程辑包：Biobase\n",
      "\n",
      "Welcome to Bioconductor\n",
      "\n",
      "    Vignettes contain introductory material; view with\n",
      "    'browseVignettes()'. To cite Bioconductor, see\n",
      "    'citation(\"Biobase\")', and for packages 'citation(\"pkgname\")'.\n",
      "\n",
      "\n",
      "\n",
      "载入程辑包：‘Biobase’\n",
      "\n",
      "\n",
      "The following object is masked from ‘package:MatrixGenerics’:\n",
      "\n",
      "    rowMedians\n",
      "\n",
      "\n",
      "The following objects are masked from ‘package:matrixStats’:\n",
      "\n",
      "    anyMissing, rowMedians\n",
      "\n",
      "\n"
     ]
    }
   ],
   "source": [
    "library(recount3)"
   ]
  },
  {
   "cell_type": "code",
   "execution_count": 2,
   "id": "3c56d92c-9424-47a5-9787-5711a5f4ed5e",
   "metadata": {
    "execution": {
     "iopub.execute_input": "2022-10-18T16:13:03.830543Z",
     "iopub.status.busy": "2022-10-18T16:13:03.829016Z",
     "iopub.status.idle": "2022-10-18T16:13:03.841057Z",
     "shell.execute_reply": "2022-10-18T16:13:03.839530Z"
    },
    "tags": []
   },
   "outputs": [],
   "source": [
    "download_recount3 <- function(project_id, project_home = \"data_sources/tcga\") {\n",
    "    dt <- recount3::create_rse_manual(\n",
    "        verbose = F,\n",
    "        project = project_id,\n",
    "        project_home = project_home,\n",
    "        organism = \"human\",\n",
    "        annotation = \"gencode_v26\",\n",
    "        type = \"gene\"\n",
    "    )\n",
    "    print(project_id)\n",
    "    save(dt, file = paste0(project_id, \".RData\"))\n",
    "}\n"
   ]
  },
  {
   "cell_type": "code",
   "execution_count": 3,
   "id": "4d0ee6dc-99e2-4463-8369-aaffcbd309b2",
   "metadata": {
    "execution": {
     "iopub.execute_input": "2022-10-18T16:13:04.668334Z",
     "iopub.status.busy": "2022-10-18T16:13:04.664781Z",
     "iopub.status.idle": "2022-10-18T16:13:04.710137Z",
     "shell.execute_reply": "2022-10-18T16:13:04.707117Z"
    },
    "tags": []
   },
   "outputs": [
    {
     "data": {
      "text/html": [
       "<style>\n",
       ".list-inline {list-style: none; margin:0; padding: 0}\n",
       ".list-inline>li {display: inline-block}\n",
       ".list-inline>li:not(:last-child)::after {content: \"\\00b7\"; padding: 0 .5ex}\n",
       "</style>\n",
       "<ol class=list-inline><li>'ACC'</li><li>'ADIPOSE_TISSUE'</li><li>'ADRENAL_GLAND'</li><li>'BLADDER'</li><li>'BLCA'</li><li>'BLOOD'</li><li>'BLOOD_VESSEL'</li><li>'BONE_MARROW'</li><li>'BRAIN'</li><li>'BRCA'</li><li>'BREAST'</li><li>'CERVIX_UTERI'</li><li>'CESC'</li><li>'CHOL'</li><li>'COAD'</li><li>'COLON'</li><li>'DLBC'</li><li>'ESCA'</li><li>'ESOPHAGUS'</li><li>'FALLOPIAN_TUBE'</li><li>'GBM'</li><li>'HEART'</li><li>'HNSC'</li><li>'KICH'</li><li>'KIDNEY'</li><li>'KIRC'</li><li>'KIRP'</li><li>'LAML'</li><li>'LGG'</li><li>'LIHC'</li><li>'LIVER'</li><li>'LUAD'</li><li>'LUNG'</li><li>'LUSC'</li><li>'MESO'</li><li>'MUSCLE'</li><li>'NERVE'</li><li>'OV'</li><li>'OVARY'</li><li>'PAAD'</li><li>'PANCREAS'</li><li>'PCPG'</li><li>'PITUITARY'</li><li>'PRAD'</li><li>'PROSTATE'</li><li>'READ'</li><li>'SALIVARY_GLAND'</li><li>'SARC'</li><li>'SKCM'</li><li>'SKIN'</li><li>'SMALL_INTESTINE'</li><li>'SPLEEN'</li><li>'STAD'</li><li>'STOMACH'</li><li>'STUDY_NA'</li><li>'TESTIS'</li><li>'TGCT'</li><li>'THCA'</li><li>'THYM'</li><li>'THYROID'</li><li>'UCEC'</li><li>'UCS'</li><li>'UTERUS'</li><li>'UVM'</li><li>'VAGINA'</li></ol>\n"
      ],
      "text/latex": [
       "\\begin{enumerate*}\n",
       "\\item 'ACC'\n",
       "\\item 'ADIPOSE\\_TISSUE'\n",
       "\\item 'ADRENAL\\_GLAND'\n",
       "\\item 'BLADDER'\n",
       "\\item 'BLCA'\n",
       "\\item 'BLOOD'\n",
       "\\item 'BLOOD\\_VESSEL'\n",
       "\\item 'BONE\\_MARROW'\n",
       "\\item 'BRAIN'\n",
       "\\item 'BRCA'\n",
       "\\item 'BREAST'\n",
       "\\item 'CERVIX\\_UTERI'\n",
       "\\item 'CESC'\n",
       "\\item 'CHOL'\n",
       "\\item 'COAD'\n",
       "\\item 'COLON'\n",
       "\\item 'DLBC'\n",
       "\\item 'ESCA'\n",
       "\\item 'ESOPHAGUS'\n",
       "\\item 'FALLOPIAN\\_TUBE'\n",
       "\\item 'GBM'\n",
       "\\item 'HEART'\n",
       "\\item 'HNSC'\n",
       "\\item 'KICH'\n",
       "\\item 'KIDNEY'\n",
       "\\item 'KIRC'\n",
       "\\item 'KIRP'\n",
       "\\item 'LAML'\n",
       "\\item 'LGG'\n",
       "\\item 'LIHC'\n",
       "\\item 'LIVER'\n",
       "\\item 'LUAD'\n",
       "\\item 'LUNG'\n",
       "\\item 'LUSC'\n",
       "\\item 'MESO'\n",
       "\\item 'MUSCLE'\n",
       "\\item 'NERVE'\n",
       "\\item 'OV'\n",
       "\\item 'OVARY'\n",
       "\\item 'PAAD'\n",
       "\\item 'PANCREAS'\n",
       "\\item 'PCPG'\n",
       "\\item 'PITUITARY'\n",
       "\\item 'PRAD'\n",
       "\\item 'PROSTATE'\n",
       "\\item 'READ'\n",
       "\\item 'SALIVARY\\_GLAND'\n",
       "\\item 'SARC'\n",
       "\\item 'SKCM'\n",
       "\\item 'SKIN'\n",
       "\\item 'SMALL\\_INTESTINE'\n",
       "\\item 'SPLEEN'\n",
       "\\item 'STAD'\n",
       "\\item 'STOMACH'\n",
       "\\item 'STUDY\\_NA'\n",
       "\\item 'TESTIS'\n",
       "\\item 'TGCT'\n",
       "\\item 'THCA'\n",
       "\\item 'THYM'\n",
       "\\item 'THYROID'\n",
       "\\item 'UCEC'\n",
       "\\item 'UCS'\n",
       "\\item 'UTERUS'\n",
       "\\item 'UVM'\n",
       "\\item 'VAGINA'\n",
       "\\end{enumerate*}\n"
      ],
      "text/markdown": [
       "1. 'ACC'\n",
       "2. 'ADIPOSE_TISSUE'\n",
       "3. 'ADRENAL_GLAND'\n",
       "4. 'BLADDER'\n",
       "5. 'BLCA'\n",
       "6. 'BLOOD'\n",
       "7. 'BLOOD_VESSEL'\n",
       "8. 'BONE_MARROW'\n",
       "9. 'BRAIN'\n",
       "10. 'BRCA'\n",
       "11. 'BREAST'\n",
       "12. 'CERVIX_UTERI'\n",
       "13. 'CESC'\n",
       "14. 'CHOL'\n",
       "15. 'COAD'\n",
       "16. 'COLON'\n",
       "17. 'DLBC'\n",
       "18. 'ESCA'\n",
       "19. 'ESOPHAGUS'\n",
       "20. 'FALLOPIAN_TUBE'\n",
       "21. 'GBM'\n",
       "22. 'HEART'\n",
       "23. 'HNSC'\n",
       "24. 'KICH'\n",
       "25. 'KIDNEY'\n",
       "26. 'KIRC'\n",
       "27. 'KIRP'\n",
       "28. 'LAML'\n",
       "29. 'LGG'\n",
       "30. 'LIHC'\n",
       "31. 'LIVER'\n",
       "32. 'LUAD'\n",
       "33. 'LUNG'\n",
       "34. 'LUSC'\n",
       "35. 'MESO'\n",
       "36. 'MUSCLE'\n",
       "37. 'NERVE'\n",
       "38. 'OV'\n",
       "39. 'OVARY'\n",
       "40. 'PAAD'\n",
       "41. 'PANCREAS'\n",
       "42. 'PCPG'\n",
       "43. 'PITUITARY'\n",
       "44. 'PRAD'\n",
       "45. 'PROSTATE'\n",
       "46. 'READ'\n",
       "47. 'SALIVARY_GLAND'\n",
       "48. 'SARC'\n",
       "49. 'SKCM'\n",
       "50. 'SKIN'\n",
       "51. 'SMALL_INTESTINE'\n",
       "52. 'SPLEEN'\n",
       "53. 'STAD'\n",
       "54. 'STOMACH'\n",
       "55. 'STUDY_NA'\n",
       "56. 'TESTIS'\n",
       "57. 'TGCT'\n",
       "58. 'THCA'\n",
       "59. 'THYM'\n",
       "60. 'THYROID'\n",
       "61. 'UCEC'\n",
       "62. 'UCS'\n",
       "63. 'UTERUS'\n",
       "64. 'UVM'\n",
       "65. 'VAGINA'\n",
       "\n",
       "\n"
      ],
      "text/plain": [
       " [1] \"ACC\"             \"ADIPOSE_TISSUE\"  \"ADRENAL_GLAND\"   \"BLADDER\"        \n",
       " [5] \"BLCA\"            \"BLOOD\"           \"BLOOD_VESSEL\"    \"BONE_MARROW\"    \n",
       " [9] \"BRAIN\"           \"BRCA\"            \"BREAST\"          \"CERVIX_UTERI\"   \n",
       "[13] \"CESC\"            \"CHOL\"            \"COAD\"            \"COLON\"          \n",
       "[17] \"DLBC\"            \"ESCA\"            \"ESOPHAGUS\"       \"FALLOPIAN_TUBE\" \n",
       "[21] \"GBM\"             \"HEART\"           \"HNSC\"            \"KICH\"           \n",
       "[25] \"KIDNEY\"          \"KIRC\"            \"KIRP\"            \"LAML\"           \n",
       "[29] \"LGG\"             \"LIHC\"            \"LIVER\"           \"LUAD\"           \n",
       "[33] \"LUNG\"            \"LUSC\"            \"MESO\"            \"MUSCLE\"         \n",
       "[37] \"NERVE\"           \"OV\"              \"OVARY\"           \"PAAD\"           \n",
       "[41] \"PANCREAS\"        \"PCPG\"            \"PITUITARY\"       \"PRAD\"           \n",
       "[45] \"PROSTATE\"        \"READ\"            \"SALIVARY_GLAND\"  \"SARC\"           \n",
       "[49] \"SKCM\"            \"SKIN\"            \"SMALL_INTESTINE\" \"SPLEEN\"         \n",
       "[53] \"STAD\"            \"STOMACH\"         \"STUDY_NA\"        \"TESTIS\"         \n",
       "[57] \"TGCT\"            \"THCA\"            \"THYM\"            \"THYROID\"        \n",
       "[61] \"UCEC\"            \"UCS\"             \"UTERUS\"          \"UVM\"            \n",
       "[65] \"VAGINA\"         "
      ]
     },
     "metadata": {},
     "output_type": "display_data"
    }
   ],
   "source": [
    "proj <- read.csv(\"recount3_selection_2022-10-17 13_59_24.csv\")\n",
    "sort(proj$project)"
   ]
  },
  {
   "cell_type": "code",
   "execution_count": 4,
   "id": "c94a4d83-04c4-48b1-9c48-ba60205df3b4",
   "metadata": {
    "execution": {
     "iopub.execute_input": "2022-10-18T16:13:05.910128Z",
     "iopub.status.busy": "2022-10-18T16:13:05.906556Z",
     "iopub.status.idle": "2022-10-18T16:14:04.503811Z",
     "shell.execute_reply": "2022-10-18T16:14:04.502086Z"
    },
    "tags": []
   },
   "outputs": [
    {
     "name": "stdout",
     "output_type": "stream",
     "text": [
      "[1] \"READ\"\n"
     ]
    }
   ],
   "source": [
    "idx <- which(proj$project %in% c(\"PRAD\", \"PROSTATE\", \"READ\", \"STAD\", \"STOMACH\"))\n",
    "for (i in idx) {\n",
    "    if(!file.exists(paste0(proj$project[i], \".RData\"))){\n",
    "    download_recount3(proj$project[i], proj$project_home[i])\n",
    "}}"
   ]
  },
  {
   "cell_type": "code",
   "execution_count": 1,
   "id": "574afd96-3efd-4191-9f3c-527c5e4052c6",
   "metadata": {
    "execution": {
     "iopub.execute_input": "2022-10-25T09:24:20.651533Z",
     "iopub.status.busy": "2022-10-25T09:24:20.648563Z",
     "iopub.status.idle": "2022-10-25T09:24:22.651607Z",
     "shell.execute_reply": "2022-10-25T09:24:22.649715Z"
    },
    "tags": []
   },
   "outputs": [
    {
     "name": "stderr",
     "output_type": "stream",
     "text": [
      "Loading required package: doBy\n",
      "\n",
      "Loading required package: RSQLite\n",
      "\n"
     ]
    }
   ],
   "source": []
  },
  {
   "cell_type": "code",
   "execution_count": null,
   "id": "e2b0a23c-833a-4873-96ba-e6893d08e03d",
   "metadata": {
    "execution": {
     "iopub.execute_input": "2022-10-25T11:24:18.494951Z",
     "iopub.status.busy": "2022-10-25T11:24:18.491604Z"
    },
    "tags": []
   },
   "outputs": [
    {
     "name": "stderr",
     "output_type": "stream",
     "text": [
      "Loading required package: doBy\n",
      "\n",
      "Loading required package: RSQLite\n",
      "\n"
     ]
    }
   ],
   "source": [
    "library(refGenome)\n",
    "ens <- ensemblGenome()\n",
    " \n",
    "# read GTF file into ensemblGenome object\n",
    "read.gtf(ens, \"gencode.v26.annotation.gtf.gz\")"
   ]
  },
  {
   "cell_type": "code",
   "execution_count": 1,
   "id": "bb441287-cb0f-428e-b382-724e13f27c40",
   "metadata": {
    "execution": {
     "iopub.execute_input": "2022-10-25T11:26:17.082663Z",
     "iopub.status.busy": "2022-10-25T11:26:17.079419Z",
     "iopub.status.idle": "2022-10-25T11:26:33.312650Z",
     "shell.execute_reply": "2022-10-25T11:26:33.311094Z"
    },
    "tags": []
   },
   "outputs": [
    {
     "name": "stderr",
     "output_type": "stream",
     "text": [
      "\u001b[1mRows: \u001b[22m\u001b[34m2604486\u001b[39m \u001b[1mColumns: \u001b[22m\u001b[34m9\u001b[39m\n",
      "\u001b[36m──\u001b[39m \u001b[1mColumn specification\u001b[22m \u001b[36m─────────────────────────────────────────────────────────\u001b[39m\n",
      "\u001b[1mDelimiter:\u001b[22m \"\\t\"\n",
      "\u001b[31mchr\u001b[39m (7): X1, X2, X3, X6, X7, X8, X9\n",
      "\u001b[32mdbl\u001b[39m (2): X4, X5\n",
      "\n",
      "\u001b[36mℹ\u001b[39m Use `spec()` to retrieve the full column specification for this data.\n",
      "\u001b[36mℹ\u001b[39m Specify the column types or set `show_col_types = FALSE` to quiet this message.\n"
     ]
    }
   ],
   "source": [
    "library(stringr)\n",
    "library(readr)\n",
    "gtf_in <- read_delim(\"gencode.v26.annotation.gtf.gz\",\n",
    "\"\\t\", escape_double = FALSE, col_names = FALSE,\n",
    "comment = \"#\", trim_ws = TRUE)\n",
    "gtf_in <- gtf_in[gtf_in$X3==\"gene\",]#第三列feature是gene的保留下来\n",
    "gene_info <- data.frame(str_split_fixed(unique(gtf_in$X9),\";\",5))\n",
    "gene_info2 <- unique(data.frame(\"gene_id\"=str_split_fixed(gene_info$X1,'\"',3)[,2],\n",
    "                         \"gene_name\"=str_split_fixed(gene_info$X3,'\"',3)[,2],\n",
    "                         \"gene_biotype\"=str_split_fixed(gene_info$X5,'\"',3)[,2]))"
   ]
  },
  {
   "cell_type": "code",
   "execution_count": 2,
   "id": "71d80de8-2186-4298-8b11-8ae8d7af3140",
   "metadata": {
    "execution": {
     "iopub.execute_input": "2022-10-25T11:26:39.669435Z",
     "iopub.status.busy": "2022-10-25T11:26:39.666087Z",
     "iopub.status.idle": "2022-10-25T11:26:40.762567Z",
     "shell.execute_reply": "2022-10-25T11:26:40.760976Z"
    }
   },
   "outputs": [
    {
     "data": {
      "text/html": [
       "<table class=\"dataframe\">\n",
       "<caption>A data.frame: 6 × 5</caption>\n",
       "<thead>\n",
       "\t<tr><th></th><th scope=col>X1</th><th scope=col>X2</th><th scope=col>X3</th><th scope=col>X4</th><th scope=col>X5</th></tr>\n",
       "\t<tr><th></th><th scope=col>&lt;chr&gt;</th><th scope=col>&lt;chr&gt;</th><th scope=col>&lt;chr&gt;</th><th scope=col>&lt;chr&gt;</th><th scope=col>&lt;chr&gt;</th></tr>\n",
       "</thead>\n",
       "<tbody>\n",
       "\t<tr><th scope=row>1</th><td>gene_id \"ENSG00000223972.5\"</td><td> gene_type \"transcribed_unprocessed_pseudogene\"</td><td> gene_name \"DDX11L1\"    </td><td> level 2</td><td> havana_gene \"OTTHUMG00000000961.2\";                  </td></tr>\n",
       "\t<tr><th scope=row>2</th><td>gene_id \"ENSG00000227232.5\"</td><td> gene_type \"unprocessed_pseudogene\"            </td><td> gene_name \"WASH7P\"     </td><td> level 2</td><td> havana_gene \"OTTHUMG00000000958.1\";                  </td></tr>\n",
       "\t<tr><th scope=row>3</th><td>gene_id \"ENSG00000278267.1\"</td><td> gene_type \"miRNA\"                             </td><td> gene_name \"MIR6859-1\"  </td><td> level 3</td><td>                                                      </td></tr>\n",
       "\t<tr><th scope=row>4</th><td>gene_id \"ENSG00000243485.5\"</td><td> gene_type \"lincRNA\"                           </td><td> gene_name \"MIR1302-2HG\"</td><td> level 2</td><td> tag \"ncRNA_host\"; havana_gene \"OTTHUMG00000000959.2\";</td></tr>\n",
       "\t<tr><th scope=row>5</th><td>gene_id \"ENSG00000284332.1\"</td><td> gene_type \"miRNA\"                             </td><td> gene_name \"MIR1302-2\"  </td><td> level 3</td><td>                                                      </td></tr>\n",
       "\t<tr><th scope=row>6</th><td>gene_id \"ENSG00000237613.2\"</td><td> gene_type \"lincRNA\"                           </td><td> gene_name \"FAM138A\"    </td><td> level 2</td><td> havana_gene \"OTTHUMG00000000960.1\";                  </td></tr>\n",
       "</tbody>\n",
       "</table>\n"
      ],
      "text/latex": [
       "A data.frame: 6 × 5\n",
       "\\begin{tabular}{r|lllll}\n",
       "  & X1 & X2 & X3 & X4 & X5\\\\\n",
       "  & <chr> & <chr> & <chr> & <chr> & <chr>\\\\\n",
       "\\hline\n",
       "\t1 & gene\\_id \"ENSG00000223972.5\" &  gene\\_type \"transcribed\\_unprocessed\\_pseudogene\" &  gene\\_name \"DDX11L1\"     &  level 2 &  havana\\_gene \"OTTHUMG00000000961.2\";                  \\\\\n",
       "\t2 & gene\\_id \"ENSG00000227232.5\" &  gene\\_type \"unprocessed\\_pseudogene\"             &  gene\\_name \"WASH7P\"      &  level 2 &  havana\\_gene \"OTTHUMG00000000958.1\";                  \\\\\n",
       "\t3 & gene\\_id \"ENSG00000278267.1\" &  gene\\_type \"miRNA\"                              &  gene\\_name \"MIR6859-1\"   &  level 3 &                                                       \\\\\n",
       "\t4 & gene\\_id \"ENSG00000243485.5\" &  gene\\_type \"lincRNA\"                            &  gene\\_name \"MIR1302-2HG\" &  level 2 &  tag \"ncRNA\\_host\"; havana\\_gene \"OTTHUMG00000000959.2\";\\\\\n",
       "\t5 & gene\\_id \"ENSG00000284332.1\" &  gene\\_type \"miRNA\"                              &  gene\\_name \"MIR1302-2\"   &  level 3 &                                                       \\\\\n",
       "\t6 & gene\\_id \"ENSG00000237613.2\" &  gene\\_type \"lincRNA\"                            &  gene\\_name \"FAM138A\"     &  level 2 &  havana\\_gene \"OTTHUMG00000000960.1\";                  \\\\\n",
       "\\end{tabular}\n"
      ],
      "text/markdown": [
       "\n",
       "A data.frame: 6 × 5\n",
       "\n",
       "| <!--/--> | X1 &lt;chr&gt; | X2 &lt;chr&gt; | X3 &lt;chr&gt; | X4 &lt;chr&gt; | X5 &lt;chr&gt; |\n",
       "|---|---|---|---|---|---|\n",
       "| 1 | gene_id \"ENSG00000223972.5\" |  gene_type \"transcribed_unprocessed_pseudogene\" |  gene_name \"DDX11L1\"     |  level 2 |  havana_gene \"OTTHUMG00000000961.2\";                   |\n",
       "| 2 | gene_id \"ENSG00000227232.5\" |  gene_type \"unprocessed_pseudogene\"             |  gene_name \"WASH7P\"      |  level 2 |  havana_gene \"OTTHUMG00000000958.1\";                   |\n",
       "| 3 | gene_id \"ENSG00000278267.1\" |  gene_type \"miRNA\"                              |  gene_name \"MIR6859-1\"   |  level 3 | <!----> |\n",
       "| 4 | gene_id \"ENSG00000243485.5\" |  gene_type \"lincRNA\"                            |  gene_name \"MIR1302-2HG\" |  level 2 |  tag \"ncRNA_host\"; havana_gene \"OTTHUMG00000000959.2\"; |\n",
       "| 5 | gene_id \"ENSG00000284332.1\" |  gene_type \"miRNA\"                              |  gene_name \"MIR1302-2\"   |  level 3 | <!----> |\n",
       "| 6 | gene_id \"ENSG00000237613.2\" |  gene_type \"lincRNA\"                            |  gene_name \"FAM138A\"     |  level 2 |  havana_gene \"OTTHUMG00000000960.1\";                   |\n",
       "\n"
      ],
      "text/plain": [
       "  X1                          X2                                             \n",
       "1 gene_id \"ENSG00000223972.5\"  gene_type \"transcribed_unprocessed_pseudogene\"\n",
       "2 gene_id \"ENSG00000227232.5\"  gene_type \"unprocessed_pseudogene\"            \n",
       "3 gene_id \"ENSG00000278267.1\"  gene_type \"miRNA\"                             \n",
       "4 gene_id \"ENSG00000243485.5\"  gene_type \"lincRNA\"                           \n",
       "5 gene_id \"ENSG00000284332.1\"  gene_type \"miRNA\"                             \n",
       "6 gene_id \"ENSG00000237613.2\"  gene_type \"lincRNA\"                           \n",
       "  X3                       X4      \n",
       "1  gene_name \"DDX11L1\"      level 2\n",
       "2  gene_name \"WASH7P\"       level 2\n",
       "3  gene_name \"MIR6859-1\"    level 3\n",
       "4  gene_name \"MIR1302-2HG\"  level 2\n",
       "5  gene_name \"MIR1302-2\"    level 3\n",
       "6  gene_name \"FAM138A\"      level 2\n",
       "  X5                                                    \n",
       "1  havana_gene \"OTTHUMG00000000961.2\";                  \n",
       "2  havana_gene \"OTTHUMG00000000958.1\";                  \n",
       "3                                                       \n",
       "4  tag \"ncRNA_host\"; havana_gene \"OTTHUMG00000000959.2\";\n",
       "5                                                       \n",
       "6  havana_gene \"OTTHUMG00000000960.1\";                  "
      ]
     },
     "metadata": {},
     "output_type": "display_data"
    }
   ],
   "source": [
    "head(gene_info)"
   ]
  },
  {
   "cell_type": "code",
   "execution_count": 5,
   "id": "1bd33233-748b-403d-bcff-4bc0b063e0f2",
   "metadata": {
    "execution": {
     "iopub.execute_input": "2022-10-25T11:28:20.464748Z",
     "iopub.status.busy": "2022-10-25T11:28:20.461966Z",
     "iopub.status.idle": "2022-10-25T11:28:20.815459Z",
     "shell.execute_reply": "2022-10-25T11:28:20.813080Z"
    },
    "tags": []
   },
   "outputs": [
    {
     "data": {
      "text/html": [
       "<table class=\"dataframe\">\n",
       "<caption>A data.frame: 6 × 3</caption>\n",
       "<thead>\n",
       "\t<tr><th></th><th scope=col>gene_id</th><th scope=col>gene_name</th><th scope=col>gene_biotype</th></tr>\n",
       "\t<tr><th></th><th scope=col>&lt;chr&gt;</th><th scope=col>&lt;chr&gt;</th><th scope=col>&lt;chr&gt;</th></tr>\n",
       "</thead>\n",
       "<tbody>\n",
       "\t<tr><th scope=row>1</th><td>ENSG00000223972.5</td><td>DDX11L1    </td><td>OTTHUMG00000000961.2</td></tr>\n",
       "\t<tr><th scope=row>2</th><td>ENSG00000227232.5</td><td>WASH7P     </td><td>OTTHUMG00000000958.1</td></tr>\n",
       "\t<tr><th scope=row>3</th><td>ENSG00000278267.1</td><td>MIR6859-1  </td><td>                    </td></tr>\n",
       "\t<tr><th scope=row>4</th><td>ENSG00000243485.5</td><td>MIR1302-2HG</td><td>ncRNA_host          </td></tr>\n",
       "\t<tr><th scope=row>5</th><td>ENSG00000284332.1</td><td>MIR1302-2  </td><td>                    </td></tr>\n",
       "\t<tr><th scope=row>6</th><td>ENSG00000237613.2</td><td>FAM138A    </td><td>OTTHUMG00000000960.1</td></tr>\n",
       "</tbody>\n",
       "</table>\n"
      ],
      "text/latex": [
       "A data.frame: 6 × 3\n",
       "\\begin{tabular}{r|lll}\n",
       "  & gene\\_id & gene\\_name & gene\\_biotype\\\\\n",
       "  & <chr> & <chr> & <chr>\\\\\n",
       "\\hline\n",
       "\t1 & ENSG00000223972.5 & DDX11L1     & OTTHUMG00000000961.2\\\\\n",
       "\t2 & ENSG00000227232.5 & WASH7P      & OTTHUMG00000000958.1\\\\\n",
       "\t3 & ENSG00000278267.1 & MIR6859-1   &                     \\\\\n",
       "\t4 & ENSG00000243485.5 & MIR1302-2HG & ncRNA\\_host          \\\\\n",
       "\t5 & ENSG00000284332.1 & MIR1302-2   &                     \\\\\n",
       "\t6 & ENSG00000237613.2 & FAM138A     & OTTHUMG00000000960.1\\\\\n",
       "\\end{tabular}\n"
      ],
      "text/markdown": [
       "\n",
       "A data.frame: 6 × 3\n",
       "\n",
       "| <!--/--> | gene_id &lt;chr&gt; | gene_name &lt;chr&gt; | gene_biotype &lt;chr&gt; |\n",
       "|---|---|---|---|\n",
       "| 1 | ENSG00000223972.5 | DDX11L1     | OTTHUMG00000000961.2 |\n",
       "| 2 | ENSG00000227232.5 | WASH7P      | OTTHUMG00000000958.1 |\n",
       "| 3 | ENSG00000278267.1 | MIR6859-1   | <!----> |\n",
       "| 4 | ENSG00000243485.5 | MIR1302-2HG | ncRNA_host           |\n",
       "| 5 | ENSG00000284332.1 | MIR1302-2   | <!----> |\n",
       "| 6 | ENSG00000237613.2 | FAM138A     | OTTHUMG00000000960.1 |\n",
       "\n"
      ],
      "text/plain": [
       "  gene_id           gene_name   gene_biotype        \n",
       "1 ENSG00000223972.5 DDX11L1     OTTHUMG00000000961.2\n",
       "2 ENSG00000227232.5 WASH7P      OTTHUMG00000000958.1\n",
       "3 ENSG00000278267.1 MIR6859-1                       \n",
       "4 ENSG00000243485.5 MIR1302-2HG ncRNA_host          \n",
       "5 ENSG00000284332.1 MIR1302-2                       \n",
       "6 ENSG00000237613.2 FAM138A     OTTHUMG00000000960.1"
      ]
     },
     "metadata": {},
     "output_type": "display_data"
    },
    {
     "data": {
      "text/plain": [
       "\n",
       "                             fragmented_locus             ncRNA_host \n",
       "                  7595                      6                   2657 \n",
       "     overlapping_locus                    PAR         pseudo_consens \n",
       "                  7809                     31                   8917 \n",
       "reference_genome_error              retrogene         semi_processed \n",
       "                    11                    328                      4 "
      ]
     },
     "metadata": {},
     "output_type": "display_data"
    }
   ],
   "source": [
    "head(gene_info2)\n",
    "tt <- table(gene_info2$gene_biotype)\n",
    "tt[tt > 1]"
   ]
  }
 ],
 "metadata": {
  "kernelspec": {
   "display_name": "R",
   "language": "R",
   "name": "ir"
  },
  "language_info": {
   "codemirror_mode": "r",
   "file_extension": ".r",
   "mimetype": "text/x-r-source",
   "name": "R",
   "pygments_lexer": "r",
   "version": "4.0.5"
  }
 },
 "nbformat": 4,
 "nbformat_minor": 5
}
